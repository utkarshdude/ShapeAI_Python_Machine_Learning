{
  "nbformat": 4,
  "nbformat_minor": 0,
  "metadata": {
    "colab": {
      "name": "Utkarsh_Rai.ipynb",
      "provenance": []
    },
    "kernelspec": {
      "name": "python3",
      "display_name": "Python 3"
    },
    "language_info": {
      "name": "python"
    }
  },
  "cells": [
    {
      "cell_type": "code",
      "metadata": {
        "colab": {
          "base_uri": "https://localhost:8080/"
        },
        "id": "kpKfTV0xUHnS",
        "outputId": "22ba21db-154e-4feb-aaa5-7a83dd08a21c"
      },
      "source": [
        "import numpy as np\n",
        "import pandas as pd\n",
        "import sklearn\n",
        "\n",
        "from sklearn.datasets import load_boston\n",
        "data = load_boston()\n",
        "\n",
        "bstn = pd.DataFrame(data.data,columns=data.feature_names)\n",
        "bstn.head()\n",
        "bstn['TGT'] = data.target\n",
        "bstn.head()\n",
        "bstn.isnull().sum() #not null\n",
        "\n",
        "X = bstn.drop('TGT', axis=1)\n",
        "Y = bstn['TGT']\n",
        "\n",
        "from sklearn.model_selection import train_test_split\n",
        "\n",
        "Xtrain,Xtest,Ytrain,Ytest = train_test_split(X,Y,test_size=0.15,random_state=1)\n",
        "\n",
        "from sklearn.linear_model import LinearRegression\n",
        "from sklearn.metrics import mean_squared_error\n",
        "\n",
        "model = LinearRegression()\n",
        "model.fit(Xtrain,Ytrain)\n",
        "\n",
        "YTpredict = model.predict(Xtrain)\n",
        "error = np.sqrt(mean_squared_error(Ytrain,YTpredict))\n",
        "print(\"ERROR IS {}\".format(error))\n",
        "\n",
        "Ypredict = model.predict(Xtest)\n",
        "err = np.sqrt(mean_squared_error(Ytest,Ypredict))\n",
        "print(\"ERROR IS {}\".format(err))\n",
        "print(\"\\n\")\n",
        "print(\"THE TOTAL MEAN ERROR IN BOTH IS : {}\".format((error+err)/2))\n",
        "\n",
        "\n",
        "\n",
        "\n",
        "\n",
        "\n",
        "\n",
        "\n"
      ],
      "execution_count": null,
      "outputs": [
        {
          "output_type": "stream",
          "text": [
            "ERROR IS 4.691577015539126\n",
            "ERROR IS 4.685497050472062\n",
            "\n",
            "\n",
            "THE TOTAL MEAN ERROR IN BOTH IS : 4.688537033005594\n"
          ],
          "name": "stdout"
        }
      ]
    },
    {
      "cell_type": "code",
      "metadata": {
        "id": "Xf_OLmMnZN92"
      },
      "source": [
        ""
      ],
      "execution_count": null,
      "outputs": []
    }
  ]
}